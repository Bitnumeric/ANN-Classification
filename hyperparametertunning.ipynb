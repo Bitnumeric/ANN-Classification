{
 "cells": [
  {
   "cell_type": "code",
   "execution_count": 5,
   "id": "05d31c51",
   "metadata": {},
   "outputs": [
    {
     "name": "stderr",
     "output_type": "stream",
     "text": [
      "2025-08-21 14:26:08.793613: I external/local_tsl/tsl/cuda/cudart_stub.cc:32] Could not find cuda drivers on your machine, GPU will not be used.\n",
      "2025-08-21 14:26:08.892194: I external/local_tsl/tsl/cuda/cudart_stub.cc:32] Could not find cuda drivers on your machine, GPU will not be used.\n",
      "2025-08-21 14:26:09.312203: I tensorflow/core/platform/cpu_feature_guard.cc:210] This TensorFlow binary is optimized to use available CPU instructions in performance-critical operations.\n",
      "To enable the following instructions: AVX2 FMA, in other operations, rebuild TensorFlow with the appropriate compiler flags.\n",
      "2025-08-21 14:26:11.541332: W tensorflow/compiler/tf2tensorrt/utils/py_utils.cc:38] TF-TRT Warning: Could not find TensorRT\n"
     ]
    }
   ],
   "source": [
    "import pandas as pd\n",
    "from sklearn.model_selection import train_test_split,GridSearchCV\n",
    "from sklearn.preprocessing import StandardScaler,LabelEncoder\n",
    "import pickle\n",
    "import tensorflow as tf\n",
    "from tensorflow.keras.models import load_model\n",
    "import numpy as np\n",
    "from sklearn.pipeline import Pipeline\n",
    "from scikeras.wrappers import KerasClassifier\n",
    "from tensorflow.keras.models import Sequential\n",
    "from tensorflow.keras.callbacks import EarlyStopping\n",
    "from sklearn.preprocessing import OneHotEncoder\n"
   ]
  },
  {
   "cell_type": "code",
   "execution_count": 6,
   "id": "e1e2f3c4",
   "metadata": {},
   "outputs": [],
   "source": [
    "data=pd.read_csv('Churn_Modelling.csv')\n",
    "data=data.drop([\"RowNumber\",\"CustomerId\",\"Surname\"],axis=1)\n",
    "label_encoder_gender=LabelEncoder()\n",
    "data[\"Gender\"]=label_encoder_gender.fit_transform(data[\"Gender\"])\n",
    "one_hot=OneHotEncoder()\n",
    "encoded_value=one_hot.fit_transform(data[['Geography']])\n",
    "encoded_value_df=pd.DataFrame(encoded_value.toarray(),columns=one_hot.get_feature_names_out([\"Geography\"]))\n",
    "data=pd.concat([data.drop(\"Geography\",axis=1),encoded_value_df],axis=1)\n",
    "\n",
    "X=data.drop('Exited',axis=1)\n",
    "y=data['Exited']\n",
    "\n",
    "#train test split\n",
    "X_train,X_test,Y_train,Y_test=train_test_split(X,y,test_size=0.2,random_state=42)\n",
    "\n",
    "scaler=StandardScaler()\n",
    "X_train=scaler.fit_transform(X_train)\n",
    "X_test=scaler.transform(X_test)\n",
    "\n",
    "with open (\"label_encoder_gender.pkl\",\"wb\") as file:\n",
    "    pickle.dump(label_encoder_gender,file)\n",
    "\n",
    "with open(\"onehot_encoder_geo.pkl\",\"wb\") as file:\n",
    "    pickle.dump(one_hot,file)\n",
    "\n",
    "with open(\"scaler.pkl\",\"wb\") as file:\n",
    "    pickle.dump(scaler,file)"
   ]
  },
  {
   "cell_type": "code",
   "execution_count": 7,
   "id": "3078ca9e",
   "metadata": {},
   "outputs": [],
   "source": [
    "##Define a function to create the model and try diffrent parameters\n",
    "\n",
    "def create_model(nurons=32,layers=1):\n",
    "    model=Sequential()\n",
    "    model.add(Dense(neurons,activation='relu',input_shape=(X_train.shape[1],)))\n",
    "\n",
    "    for _ in range (layers-1):\n",
    "        model.add(Dense(neurons,activation='relu'))\n",
    "    \n",
    "    model.add(Dense(1,activation='sigmoid'))\n",
    "    model.compile(optimizer='adam',loss='binary_crossentropy',metrics=['accuracy'])\n",
    "    return model"
   ]
  },
  {
   "cell_type": "code",
   "execution_count": 16,
   "id": "2edb70a2",
   "metadata": {},
   "outputs": [],
   "source": [
    "## Create a Keras Classifer\n",
    "\n",
    "model=KerasClassifier(build_fn=create_model,epochs=50,batch_size=10,verbose=0)\n"
   ]
  },
  {
   "cell_type": "code",
   "execution_count": 17,
   "id": "104c1f5d",
   "metadata": {},
   "outputs": [],
   "source": [
    "#Defining the grod search parameter\n",
    "param_grid={\n",
    "    'neurons':[16,32,64,128],\n",
    "    'layers':[1,2],\n",
    "    'epochs':[50,100]\n",
    "}"
   ]
  },
  {
   "cell_type": "code",
   "execution_count": null,
   "id": "73434e68",
   "metadata": {},
   "outputs": [
    {
     "name": "stdout",
     "output_type": "stream",
     "text": [
      "Fitting 3 folds for each of 16 candidates, totalling 48 fits\n"
     ]
    },
    {
     "name": "stderr",
     "output_type": "stream",
     "text": [
      "2025-08-21 14:15:46.669020: I external/local_tsl/tsl/cuda/cudart_stub.cc:32] Could not find cuda drivers on your machine, GPU wi2025-08-21 14:15:46.669013: I external/local_tsl/tsl/cuda/cudart_stub.cc:32] Could not find cuda drivers on your machine, GPU wi2025-08-21 14:15:46.669013: I external/local_tsl/tsl/cuda/cudart_stub.cc:32] Could not find cuda drivers on your machine, GPU wi2025-08-21 14:15:46.669011: I external/local_tsl/tsl/cuda/cudart_stub.cc:32] Could not find cuda drivers on your machine, GPU wi2025-08-21 14:15:46.669010: I external/local_tsl/tsl/cuda/cudart_stub.cc:32] Could not find cuda drivers on your machine, GPU wi2025-08-21 14:15:46.669012: I external/local_tsl/tsl/cuda/cudart_stub.cc:32] Could not find cuda drivers on your machine, GPU wi2025-08-21 14:15:46.669020: I external/local_tsl/tsl/cuda/cudart_stub.cc:32] Could not find cuda drivers on your machine, GPU wi2025-08-21 14:15:46.669014: I external/local_tsl/tsl/cuda/cudart_stub.cc:32] Could not find cuda drivers on your machine, GPU wi2025-08-21 14:15:46.669014: I external/local_tsl/tsl/cuda/cudart_stub.cc:32] Could not find cuda drivers on your machine, GPU wi2025-08-21 14:15:46.669022: I external/local_tsl/tsl/cuda/cudart_stub.cc:32] Could not find cuda drivers on your machine, GPU wi2025-08-21 14:15:46.669009: I external/local_tsl/tsl/cuda/cudart_stub.cc:32] Could not find cuda drivers on your machine, GPU will not be used.\n",
      "2025-08-21 14:15:46.669015: I external/local_tsl/tsl/cuda/cudart_stub.cc:32] Could not find cuda drivers on your machine, GPU will not be used.\n",
      "ll not be used.\n",
      "ll not be used.\n",
      "ll not be used.\n",
      "ll not be used.\n",
      "ll not be used.\n",
      "ll not be used.\n",
      "ll not be used.\n",
      "ll not be used.\n",
      "ll not be used.\n",
      "ll not be used.\n",
      "2025-08-21 14:15:46.740361: I external/local_tsl/tsl/cuda/cudart_stub.cc:32] Could not find cuda drivers on your machine, GPU wi2025-08-21 14:15:46.740363: I external/local_tsl/tsl/cuda/cudart_stub.cc:32] Could not find cuda drivers on your machine, GPU wi2025-08-21 14:15:46.740359: I external/local_tsl/tsl/cuda/cudart_stub.cc:32] Could not find cuda drivers on your machine, GPU will not be used.\n",
      "ll not be used.\n",
      "2025-08-21 14:15:46.740377: I external/local_tsl/tsl/cuda/cudart_stub.cc:32] Could not find cuda drivers on your machine, GPU will not be used.\n",
      "ll not be used.\n",
      "2025-08-21 14:15:46.740378: I external/local_tsl/tsl/cuda/cudart_stub.cc:32] Could not find cuda drivers on your machine, GPU wi2025-08-21 14:15:46.740377: I external/local_tsl/tsl/cuda/cudart_stub.cc:32] Could not find cuda drivers on your machine, GPU wi2025-08-21 14:15:46.740382: I external/local_tsl/tsl/cuda/cudart_stub.cc:32] Could not find cuda drivers on your machine, GPU wi2025-08-21 14:15:46.740378: I external/local_tsl/tsl/cuda/cudart_stub.cc:32] Could not find cuda drivers on your machine, GPU wi2025-08-21 14:15:46.740380: I external/local_tsl/tsl/cuda/cudart_stub.cc:32] Could not find cuda drivers on your machine, GPU will not be used.\n",
      "ll not be used.\n",
      "ll not be used.\n",
      "ll not be used.\n",
      "ll not be used.\n",
      "2025-08-21 14:15:46.740521: I external/local_tsl/tsl/cuda/cudart_stub.cc:32] Could not find cuda drivers on your machine, GPU will not be used.\n",
      "2025-08-21 14:15:46.740616: I external/local_tsl/tsl/cuda/cudart_stub.cc:32] Could not find cuda drivers on your machine, GPU will not be used.\n",
      "2025-08-21 14:15:46.740747: I external/local_tsl/tsl/cuda/cudart_stub.cc:32] Could not find cuda drivers on your machine, GPU will not be used.\n",
      "2025-08-21 14:15:47.196086: I tensorflow/core/platform/cpu_feature_guard.cc:210] This TensorFlow binary is optimized to use avai2025-08-21 14:15:47.196089: I tensorflow/core/platform/cpu_feature_guard.cc:210] This TensorFlow binary is optimized to use avai2025-08-21 14:15:47.196082: I tensorflow/core/platform/cpu_feature_guard.cc:210] This TensorFlow binary is optimized to use avai2025-08-21 14:15:47.196086: I tensorflow/core/platform/cpu_feature_guard.cc:210] This TensorFlow binary is optimized to use avai2025-08-21 14:15:47.196088: I tensorflow/core/platform/cpu_feature_guard.cc:210] This TensorFlow binary is optimized to use avai2025-08-21 14:15:47.196096: I tensorflow/core/platform/cpu_feature_guard.cc:210] This TensorFlow binary is optimized to use avai2025-08-21 14:15:47.196089: I tensorflow/core/platform/cpu_feature_guard.cc:210] This TensorFlow binary is optimized to use avai2025-08-21 14:15:47.196082: I tensorflow/core/platform/cpu_feature_guard.cc:210] This TensorFlow binary is optimized to use available CPU instructions in performance-critical operations.\n",
      "To enable the following instructions: AVX2 FMA, in other operations, lable CPU instructions in performance-critical operations.\n",
      "To enable the following instructions: AVX2 FMA, in other operations, lable CPU instructions in performance-critical operations.\n",
      "To enable the following instructions: AVX2 FMA, in other operations, lable CPU instructions in performance-critical operations.\n",
      "To enable the following instructions: AVX2 FMA, in other operations, rebuild TensorFlow with the appropriate compiler flags.\n",
      "2025-08-21 14:15:47.196082: I tensorflow/core/platform/cpu_feature_guard.cc:210] This TensorFlow binary is optimized to use avai2025-08-21 14:15:47.196086: I tensorflow/core/platform/cpu_feature_guard.cc:210] This TensorFlow binary is optimized to use available CPU instructions in performance-critical operations.\n",
      "To enable the following instructions: AVX2 FMA, in other operations, lable CPU instructions in performance-critical operations.\n",
      "To enable the following instructions: AVX2 FMA, in other operations, lable CPU instructions in performance-critical operations.\n",
      "To enable the following instructions: AVX2 FMA, in other operations, rebuild TensorFlow with the appropriate compiler flags.\n",
      "rebuild TensorFlow with the appropriate compiler flags.\n",
      "rebuild TensorFlow with the appropriate compiler flags.\n",
      "rebuild TensorFlow with the appropriate compiler flags.\n",
      "rebuild TensorFlow with the appropriate compiler flags.\n",
      "lable CPU instructions in performance-critical operations.\n",
      "To enable the following instructions: AVX2 FMA, in other operations, lable CPU instructions in performance-critical operations.\n",
      "To enable the following instructions: AVX2 FMA, in other operations, rebuild TensorFlow with the appropriate compiler flags.\n",
      "rebuild TensorFlow with the appropriate compiler flags.\n",
      "rebuild TensorFlow with the appropriate compiler flags.\n",
      "lable CPU instructions in performance-critical operations.\n",
      "To enable the following instructions: AVX2 FMA, in other operations, rebuild TensorFlow with the appropriate compiler flags.\n",
      "2025-08-21 14:15:47.196137: I tensorflow/core/platform/cpu_feature_guard.cc:210] This TensorFlow binary is optimized to use avai2025-08-21 14:15:47.196138: I tensorflow/core/platform/cpu_feature_guard.cc:210] This TensorFlow binary is optimized to use available CPU instructions in performance-critical operations.\n",
      "To enable the following instructions: AVX2 FMA, in other operations, lable CPU instructions in performance-critical operations.\n",
      "To enable the following instructions: AVX2 FMA, in other operations, rebuild TensorFlow with the appropriate compiler flags.\n",
      "rebuild TensorFlow with the appropriate compiler flags.\n"
     ]
    }
   ],
   "source": [
    "#perform grid search\n",
    "grid=GridSearchCV(estimator=model, param_grid=param_grid, n_jobs=-1, cv=3, verbose=1)\n",
    "grid_result = grid.fit(X_train,Y_train)\n",
    "\n",
    "# Print the best parameters\n",
    "print(\"Best: %f using %s \" % (grid_result.best_score_,grid_result.best_params_))"
   ]
  },
  {
   "cell_type": "code",
   "execution_count": null,
   "id": "3fd72ac8",
   "metadata": {},
   "outputs": [],
   "source": []
  },
  {
   "cell_type": "code",
   "execution_count": null,
   "id": "72d5acaf",
   "metadata": {},
   "outputs": [],
   "source": []
  }
 ],
 "metadata": {
  "kernelspec": {
   "display_name": "myenv (3.11.7)",
   "language": "python",
   "name": "python3"
  },
  "language_info": {
   "codemirror_mode": {
    "name": "ipython",
    "version": 3
   },
   "file_extension": ".py",
   "mimetype": "text/x-python",
   "name": "python",
   "nbconvert_exporter": "python",
   "pygments_lexer": "ipython3",
   "version": "3.11.7"
  }
 },
 "nbformat": 4,
 "nbformat_minor": 5
}
